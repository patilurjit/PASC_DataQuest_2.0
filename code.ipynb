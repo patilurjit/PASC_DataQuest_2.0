{
 "cells": [
  {
   "cell_type": "markdown",
   "metadata": {},
   "source": [
    "# PASC DataQuest 2.0"
   ]
  },
  {
   "cell_type": "markdown",
   "metadata": {},
   "source": [
    "The model used was a GradientBoostingClassifier that retured accuracies of 89%(dev), 88.4%(Public LB) and 85.9%(Private LB)."
   ]
  },
  {
   "cell_type": "code",
   "execution_count": 1,
   "metadata": {},
   "outputs": [],
   "source": [
    "import pandas as pd\n",
    "import numpy as np\n",
    "import matplotlib.pyplot as plt\n",
    "import seaborn as sns\n",
    "\n",
    "import warnings\n",
    "warnings.filterwarnings('ignore')\n",
    "\n",
    "from sklearn.model_selection import train_test_split\n",
    "from feature_engine.categorical_encoders import OneHotCategoricalEncoder\n",
    "from imblearn.over_sampling import SVMSMOTE\n",
    "from imblearn.under_sampling import RandomUnderSampler\n",
    "\n",
    "from sklearn.metrics import confusion_matrix,classification_report\n",
    "from sklearn.model_selection import GridSearchCV\n",
    "from sklearn.feature_selection import VarianceThreshold, RFE, SelectKBest, chi2\n",
    "from sklearn.preprocessing import MinMaxScaler\n",
    "from sklearn.linear_model import LogisticRegression\n",
    "from sklearn.ensemble import GradientBoostingClassifier, RandomForestClassifier"
   ]
  },
  {
   "cell_type": "code",
   "execution_count": 2,
   "metadata": {},
   "outputs": [],
   "source": [
    "train = pd.read_csv(\"C:\\\\01Data\\\\Urjit\\\\Exercise PICT\\\\doctor_train.csv\")\n",
    "test = pd.read_csv(\"C:\\\\01Data\\\\Urjit\\\\Exercise PICT\\\\doctor_test.csv\")"
   ]
  },
  {
   "cell_type": "markdown",
   "metadata": {},
   "source": [
    "# Imputation"
   ]
  },
  {
   "cell_type": "markdown",
   "metadata": {},
   "source": [
    "Missing values in 'age' were replaced using median as it had a slightly skewed distribution and the missing values in 'Money' were replaced with mean."
   ]
  },
  {
   "cell_type": "code",
   "execution_count": 3,
   "metadata": {},
   "outputs": [],
   "source": [
    "def impute_na(df, variable, value):\n",
    "    df[variable].fillna(value, inplace=True)"
   ]
  },
  {
   "cell_type": "code",
   "execution_count": 4,
   "metadata": {},
   "outputs": [],
   "source": [
    "impute_na(train,'age',train['age'].median())\n",
    "impute_na(test,'age',train['age'].median())\n",
    "\n",
    "impute_na(train,'Money',train['Money'].mean())\n",
    "impute_na(test,'Money',train['Money'].mean())"
   ]
  },
  {
   "cell_type": "markdown",
   "metadata": {},
   "source": [
    "Missing value imputation for categorical variables was done using mode imputation."
   ]
  },
  {
   "cell_type": "code",
   "execution_count": 5,
   "metadata": {},
   "outputs": [
    {
     "data": {
      "text/plain": [
       "0    secondary\n",
       "dtype: object"
      ]
     },
     "execution_count": 5,
     "metadata": {},
     "output_type": "execute_result"
    }
   ],
   "source": [
    "train['edu'].mode()"
   ]
  },
  {
   "cell_type": "code",
   "execution_count": 6,
   "metadata": {},
   "outputs": [],
   "source": [
    "impute_na(train,'edu','secondary')\n",
    "impute_na(test,'edu','secondary')"
   ]
  },
  {
   "cell_type": "code",
   "execution_count": 7,
   "metadata": {},
   "outputs": [
    {
     "data": {
      "text/plain": [
       "0    yes\n",
       "dtype: object"
      ]
     },
     "execution_count": 7,
     "metadata": {},
     "output_type": "execute_result"
    }
   ],
   "source": [
    "train['residence'].mode()"
   ]
  },
  {
   "cell_type": "code",
   "execution_count": 8,
   "metadata": {},
   "outputs": [],
   "source": [
    "impute_na(train,'residence','yes')\n",
    "impute_na(test,'residence','yes')"
   ]
  },
  {
   "cell_type": "code",
   "execution_count": 9,
   "metadata": {},
   "outputs": [
    {
     "data": {
      "text/plain": [
       "0    no\n",
       "dtype: object"
      ]
     },
     "execution_count": 9,
     "metadata": {},
     "output_type": "execute_result"
    }
   ],
   "source": [
    "train['prev_diagnosed'].mode()"
   ]
  },
  {
   "cell_type": "code",
   "execution_count": 10,
   "metadata": {},
   "outputs": [],
   "source": [
    "impute_na(train,'prev_diagnosed','no')\n",
    "impute_na(test,'prev_diagnosed','no')"
   ]
  },
  {
   "cell_type": "code",
   "execution_count": 11,
   "metadata": {},
   "outputs": [
    {
     "data": {
      "text/plain": [
       "ID                0.0\n",
       "age               0.0\n",
       "Profession        0.0\n",
       "Status            0.0\n",
       "edu               0.0\n",
       "Irregular         0.0\n",
       "Money             0.0\n",
       "residence         0.0\n",
       "prev_diagnosed    0.0\n",
       "communication     0.0\n",
       "day               0.0\n",
       "Month             0.0\n",
       "Time              0.0\n",
       "Doctor_visits     0.0\n",
       "last_visit        0.0\n",
       "cured_in          0.0\n",
       "side_effects      0.0\n",
       "Y                 0.0\n",
       "dtype: float64"
      ]
     },
     "execution_count": 11,
     "metadata": {},
     "output_type": "execute_result"
    }
   ],
   "source": [
    "train.isnull().mean()"
   ]
  },
  {
   "cell_type": "code",
   "execution_count": 12,
   "metadata": {},
   "outputs": [
    {
     "data": {
      "text/plain": [
       "ID                0.0\n",
       "age               0.0\n",
       "Profession        0.0\n",
       "Status            0.0\n",
       "edu               0.0\n",
       "Irregular         0.0\n",
       "Money             0.0\n",
       "residence         0.0\n",
       "prev_diagnosed    0.0\n",
       "communication     0.0\n",
       "day               0.0\n",
       "Month             0.0\n",
       "Time              0.0\n",
       "Doctor_visits     0.0\n",
       "last_visit        0.0\n",
       "cured_in          0.0\n",
       "side_effects      0.0\n",
       "dtype: float64"
      ]
     },
     "execution_count": 12,
     "metadata": {},
     "output_type": "execute_result"
    }
   ],
   "source": [
    "test.isnull().mean()"
   ]
  },
  {
   "cell_type": "markdown",
   "metadata": {},
   "source": [
    "# Train Test Split"
   ]
  },
  {
   "cell_type": "code",
   "execution_count": 13,
   "metadata": {},
   "outputs": [],
   "source": [
    "train = train.drop('ID',axis = 1)\n",
    "df = test\n",
    "test = test.drop('ID',axis = 1)"
   ]
  },
  {
   "cell_type": "code",
   "execution_count": 14,
   "metadata": {},
   "outputs": [],
   "source": [
    "x_train,x_test,y_train,y_test = train_test_split(train.drop(labels='Y', axis=1),train['Y'],test_size = 0.3,random_state = 16)"
   ]
  },
  {
   "cell_type": "markdown",
   "metadata": {},
   "source": [
    "# One Hot Encoding"
   ]
  },
  {
   "cell_type": "markdown",
   "metadata": {},
   "source": [
    "One Hot Encoding was done using OneHotCategoricalEncoder from the feature-engine package.\n",
    "\n",
    "The values for 'top_categories' were decided by plotting the variables and studying the distribution of data into different categories."
   ]
  },
  {
   "cell_type": "code",
   "execution_count": 15,
   "metadata": {},
   "outputs": [
    {
     "data": {
      "text/plain": [
       "((19737, 32), (8459, 32), (3000, 32))"
      ]
     },
     "execution_count": 15,
     "metadata": {},
     "output_type": "execute_result"
    }
   ],
   "source": [
    "ohc_p = OneHotCategoricalEncoder(top_categories = 5,variables = 'Profession',drop_last = True)\n",
    "ohc_p.fit(x_train)\n",
    "\n",
    "tmp_train = ohc_p.transform(x_train)\n",
    "tmp_test = ohc_p.transform(x_test)\n",
    "tmp2 = ohc_p.transform(test)\n",
    "\n",
    "ohc_m = OneHotCategoricalEncoder(top_categories = 7,variables = 'Month',drop_last = True)\n",
    "ohc_m.fit(tmp_train)\n",
    "\n",
    "tmp_train = ohc_m.transform(tmp_train)\n",
    "tmp_test = ohc_m.transform(tmp_test)\n",
    "tmp2 = ohc_m.transform(tmp2)\n",
    "\n",
    "ohc_e = OneHotCategoricalEncoder(top_categories = 3,variables = 'edu',drop_last = True)\n",
    "ohc_e.fit(tmp_train)\n",
    "\n",
    "tmp_train = ohc_e.transform(tmp_train)\n",
    "tmp_test = ohc_e.transform(tmp_test)\n",
    "tmp2 = ohc_e.transform(tmp2)\n",
    "\n",
    "ohc_a = OneHotCategoricalEncoder(variables = ['Status','Irregular','residence','prev_diagnosed','communication','side_effects'],\n",
    "                                 drop_last = True)\n",
    "ohc_a.fit(tmp_train)\n",
    "\n",
    "tmp_train = ohc_a.transform(tmp_train)\n",
    "tmp_test = ohc_a.transform(tmp_test)\n",
    "tmp2 = ohc_a.transform(tmp2)\n",
    "\n",
    "tmp_train.shape,tmp_test.shape,tmp2.shape"
   ]
  },
  {
   "cell_type": "markdown",
   "metadata": {},
   "source": [
    "The target variable had a large imbalance. Oversampling(SVMSMOTE) coupled with Undersampling(RandomUnderSampler) was used to remedy the imbalance."
   ]
  },
  {
   "cell_type": "markdown",
   "metadata": {},
   "source": [
    "# Oversampling"
   ]
  },
  {
   "cell_type": "code",
   "execution_count": 16,
   "metadata": {},
   "outputs": [],
   "source": [
    "sm = SVMSMOTE(sampling_strategy = 0.2,random_state = 16)\n",
    "\n",
    "x_SMOTE, y_SMOTE = sm.fit_resample(tmp_train, y_train)"
   ]
  },
  {
   "cell_type": "code",
   "execution_count": 17,
   "metadata": {},
   "outputs": [
    {
     "data": {
      "text/plain": [
       "(array([17414.,     0.,     0.,     0.,     0.,     0.,     0.,     0.,\n",
       "            0.,  3482.]),\n",
       " array([0. , 0.1, 0.2, 0.3, 0.4, 0.5, 0.6, 0.7, 0.8, 0.9, 1. ]),\n",
       " <a list of 10 Patch objects>)"
      ]
     },
     "execution_count": 17,
     "metadata": {},
     "output_type": "execute_result"
    },
    {
     "data": {
      "image/png": "[encoded data removed]",
      "text/plain": [
       "<Figure size 432x288 with 1 Axes>"
      ]
     },
     "metadata": {
      "needs_background": "light"
     },
     "output_type": "display_data"
    }
   ],
   "source": [
    "plt.hist(y_SMOTE)"
   ]
  },
  {
   "cell_type": "markdown",
   "metadata": {},
   "source": [
    "# Undersampling"
   ]
  },
  {
   "cell_type": "code",
   "execution_count": 18,
   "metadata": {},
   "outputs": [],
   "source": [
    "rs = RandomUnderSampler(sampling_strategy = 0.5,random_state = 16)\n",
    "\n",
    "x_SMOTE, y_SMOTE = rs.fit_resample(x_SMOTE, y_SMOTE)"
   ]
  },
  {
   "cell_type": "code",
   "execution_count": 19,
   "metadata": {},
   "outputs": [
    {
     "data": {
      "text/plain": [
       "(array([6964.,    0.,    0.,    0.,    0.,    0.,    0.,    0.,    0.,\n",
       "        3482.]),\n",
       " array([0. , 0.1, 0.2, 0.3, 0.4, 0.5, 0.6, 0.7, 0.8, 0.9, 1. ]),\n",
       " <a list of 10 Patch objects>)"
      ]
     },
     "execution_count": 19,
     "metadata": {},
     "output_type": "execute_result"
    },
    {
     "data": {
      "image/png": "[encoded data removed]",
      "text/plain": [
       "<Figure size 432x288 with 1 Axes>"
      ]
     },
     "metadata": {
      "needs_background": "light"
     },
     "output_type": "display_data"
    }
   ],
   "source": [
    "plt.hist(y_SMOTE)"
   ]
  },
  {
   "cell_type": "markdown",
   "metadata": {},
   "source": [
    "# Feature Selection"
   ]
  },
  {
   "cell_type": "markdown",
   "metadata": {},
   "source": [
    "Four methods were used to produce the 20 most important features for each method and then the a final list of features was made by combining the unique features from all 4 methods."
   ]
  },
  {
   "cell_type": "code",
   "execution_count": 20,
   "metadata": {},
   "outputs": [
    {
     "data": {
      "text/plain": [
       "Index(['age', 'Money', 'day', 'Time', 'Doctor_visits', 'last_visit',\n",
       "       'cured_in', 'Profession_blue-collar', 'Profession_management',\n",
       "       'Profession_technician', 'Profession_admin.', 'Month_may', 'Month_jul',\n",
       "       'Month_aug', 'Month_jun', 'edu_secondary', 'edu_tertiary',\n",
       "       'edu_primary', 'Status_married', 'Status_single', 'residence_no',\n",
       "       'prev_diagnosed_no', 'communication_cellular', 'communication_unknown',\n",
       "       'side_effects_unknown', 'side_effects_failure'],\n",
       "      dtype='object')"
      ]
     },
     "execution_count": 20,
     "metadata": {},
     "output_type": "execute_result"
    }
   ],
   "source": [
    "threshold = 0.90\n",
    "\n",
    "vt = VarianceThreshold().fit(x_SMOTE)\n",
    "\n",
    "feat_var_threshold = x_SMOTE.columns[vt.variances_ > threshold * (1-threshold)]\n",
    "feat_var_threshold"
   ]
  },
  {
   "cell_type": "code",
   "execution_count": 21,
   "metadata": {},
   "outputs": [
    {
     "data": {
      "text/plain": [
       "Index(['Time', 'Money', 'age', 'day', 'last_visit', 'Doctor_visits',\n",
       "       'side_effects_success', 'communication_unknown', 'residence_no',\n",
       "       'cured_in', 'side_effects_failure', 'Month_may', 'Status_married',\n",
       "       'side_effects_unknown', 'Month_jul', 'Month_aug', 'Month_nov',\n",
       "       'communication_cellular', 'edu_secondary', 'Month_apr'],\n",
       "      dtype='object')"
      ]
     },
     "execution_count": 21,
     "metadata": {},
     "output_type": "execute_result"
    }
   ],
   "source": [
    "model = RandomForestClassifier(random_state = 42)\n",
    "model.fit(x_SMOTE, y_SMOTE)\n",
    "\n",
    "feature_imp = pd.DataFrame(model.feature_importances_, index=x_SMOTE.columns, columns=[\"importance\"])\n",
    "feat_imp_20 = feature_imp.sort_values(\"importance\", ascending=False).head(20).index\n",
    "feat_imp_20"
   ]
  },
  {
   "cell_type": "code",
   "execution_count": 22,
   "metadata": {},
   "outputs": [
    {
     "data": {
      "text/plain": [
       "array(['side_effects_success', 'communication_unknown', 'Month_may',\n",
       "       'Time', 'Profession_blue-collar', 'residence_no',\n",
       "       'side_effects_unknown', 'communication_cellular', 'Status_married',\n",
       "       'edu_primary', 'edu_secondary', 'Profession_services', 'Month_jul',\n",
       "       'Month_jun', 'last_visit', 'Profession_technician', 'Month_nov',\n",
       "       'cured_in', 'Month_apr', 'Month_aug'], dtype=object)"
      ]
     },
     "execution_count": 22,
     "metadata": {},
     "output_type": "execute_result"
    }
   ],
   "source": [
    "X_minmax = MinMaxScaler(feature_range=(0,1)).fit_transform(x_SMOTE)\n",
    "X_scored = SelectKBest(score_func=chi2, k='all').fit(X_minmax, y_SMOTE)\n",
    "feature_scoring = pd.DataFrame({\n",
    "        'feature': x_SMOTE.columns,\n",
    "        'score': X_scored.scores_\n",
    "    })\n",
    "\n",
    "feat_scored_20 = feature_scoring.sort_values('score', ascending=False).head(20)['feature'].values\n",
    "feat_scored_20"
   ]
  },
  {
   "cell_type": "code",
   "execution_count": 23,
   "metadata": {},
   "outputs": [
    {
     "data": {
      "text/plain": [
       "array(['Profession_blue-collar', 'Profession_management',\n",
       "       'Profession_technician', 'Profession_admin.',\n",
       "       'Profession_services', 'Month_may', 'Month_jul', 'Month_aug',\n",
       "       'Month_jun', 'Month_nov', 'Month_apr', 'Month_feb',\n",
       "       'edu_secondary', 'edu_tertiary', 'edu_primary', 'Status_married',\n",
       "       'communication_unknown', 'side_effects_unknown',\n",
       "       'side_effects_failure', 'side_effects_success'], dtype=object)"
      ]
     },
     "execution_count": 23,
     "metadata": {},
     "output_type": "execute_result"
    }
   ],
   "source": [
    "rfe = RFE(LogisticRegression(random_state = 42), 20)\n",
    "rfe.fit(x_SMOTE, y_SMOTE)\n",
    "\n",
    "feature_rfe_scoring = pd.DataFrame({\n",
    "        'feature': x_SMOTE.columns,\n",
    "        'score': rfe.ranking_\n",
    "    })\n",
    "\n",
    "feat_rfe_20 = feature_rfe_scoring[feature_rfe_scoring['score'] == 1]['feature'].values\n",
    "feat_rfe_20"
   ]
  },
  {
   "cell_type": "code",
   "execution_count": 24,
   "metadata": {},
   "outputs": [
    {
     "name": "stdout",
     "output_type": "stream",
     "text": [
      "Final features set:\n",
      "\n",
      "\t-Doctor_visits\n",
      "\t-Money\n",
      "\t-Month_apr\n",
      "\t-Month_aug\n",
      "\t-Month_feb\n",
      "\t-Month_jul\n",
      "\t-Month_jun\n",
      "\t-Month_may\n",
      "\t-Month_nov\n",
      "\t-Profession_admin.\n",
      "\t-Profession_blue-collar\n",
      "\t-Profession_management\n",
      "\t-Profession_services\n",
      "\t-Profession_technician\n",
      "\t-Status_married\n",
      "\t-Status_single\n",
      "\t-Time\n",
      "\t-age\n",
      "\t-communication_cellular\n",
      "\t-communication_unknown\n",
      "\t-cured_in\n",
      "\t-day\n",
      "\t-edu_primary\n",
      "\t-edu_secondary\n",
      "\t-edu_tertiary\n",
      "\t-last_visit\n",
      "\t-prev_diagnosed_no\n",
      "\t-residence_no\n",
      "\t-side_effects_failure\n",
      "\t-side_effects_success\n",
      "\t-side_effects_unknown\n"
     ]
    }
   ],
   "source": [
    "features = np.hstack([\n",
    "        feat_var_threshold, \n",
    "        feat_imp_20,\n",
    "        feat_scored_20,\n",
    "        feat_rfe_20\n",
    "    ])\n",
    "\n",
    "features = np.unique(features)\n",
    "print('Final features set:\\n')\n",
    "for f in features:\n",
    "    print(\"\\t-{}\".format(f))"
   ]
  },
  {
   "cell_type": "markdown",
   "metadata": {},
   "source": [
    "# Final Features"
   ]
  },
  {
   "cell_type": "code",
   "execution_count": 25,
   "metadata": {},
   "outputs": [
    {
     "data": {
      "text/plain": [
       "((10446, 31), (8459, 31), (3000, 31))"
      ]
     },
     "execution_count": 25,
     "metadata": {},
     "output_type": "execute_result"
    }
   ],
   "source": [
    "x_SMOTE = x_SMOTE.loc[:, features]\n",
    "tmp2 = tmp2.loc[:, features]\n",
    "tmp_test = tmp_test.loc[:, features]\n",
    "\n",
    "x_SMOTE.shape,tmp_test.shape,tmp2.shape"
   ]
  },
  {
   "cell_type": "markdown",
   "metadata": {},
   "source": [
    "# Gradient Boosting Classifier"
   ]
  },
  {
   "cell_type": "markdown",
   "metadata": {},
   "source": [
    "GradientBoostingClassifier gave the best results after hyperparamter tuning using GridSearchCV."
   ]
  },
  {
   "cell_type": "code",
   "execution_count": 26,
   "metadata": {},
   "outputs": [
    {
     "data": {
      "text/plain": [
       "GradientBoostingClassifier(ccp_alpha=0.0, criterion='friedman_mse', init=None,\n",
       "                           learning_rate=0.08, loss='deviance', max_depth=5,\n",
       "                           max_features=None, max_leaf_nodes=None,\n",
       "                           min_impurity_decrease=0.0, min_impurity_split=None,\n",
       "                           min_samples_leaf=30, min_samples_split=100,\n",
       "                           min_weight_fraction_leaf=0.0, n_estimators=100,\n",
       "                           n_iter_no_change=None, presort='deprecated',\n",
       "                           random_state=16, subsample=1.0, tol=0.0001,\n",
       "                           validation_fraction=0.1, verbose=0,\n",
       "                           warm_start=False)"
      ]
     },
     "execution_count": 26,
     "metadata": {},
     "output_type": "execute_result"
    }
   ],
   "source": [
    "gbm = GradientBoostingClassifier(learning_rate = 0.08, n_estimators = 100,min_samples_split = 100,min_samples_leaf = 30,\n",
    "                                 max_depth = 5,subsample = 1.0,random_state = 16)\n",
    "\n",
    "gbm.fit(x_SMOTE,y_SMOTE)"
   ]
  },
  {
   "cell_type": "code",
   "execution_count": 27,
   "metadata": {},
   "outputs": [],
   "source": [
    "pred = gbm.predict(tmp_test)"
   ]
  },
  {
   "cell_type": "code",
   "execution_count": 28,
   "metadata": {},
   "outputs": [
    {
     "name": "stdout",
     "output_type": "stream",
     "text": [
      "[[6840  633]\n",
      " [ 301  685]]\n"
     ]
    }
   ],
   "source": [
    "print(confusion_matrix(y_test,pred))"
   ]
  },
  {
   "cell_type": "code",
   "execution_count": 29,
   "metadata": {},
   "outputs": [
    {
     "name": "stdout",
     "output_type": "stream",
     "text": [
      "              precision    recall  f1-score   support\n",
      "\n",
      "          no       0.96      0.92      0.94      7473\n",
      "         yes       0.52      0.69      0.59       986\n",
      "\n",
      "    accuracy                           0.89      8459\n",
      "   macro avg       0.74      0.81      0.77      8459\n",
      "weighted avg       0.91      0.89      0.90      8459\n",
      "\n"
     ]
    }
   ],
   "source": [
    "print(classification_report(y_test,pred))"
   ]
  },
  {
   "cell_type": "code",
   "execution_count": null,
   "metadata": {},
   "outputs": [],
   "source": [
    "from yellowbrick.model_selection import FeatureImportances\n",
    "\n",
    "plt.rcParams['figure.figsize'] = (12,8)\n",
    "plt.style.use(\"ggplot\")\n",
    "\n",
    "gbm = GradientBoostingClassifier(ccp_alpha=0.0, criterion='friedman_mse', init=None,\n",
    "                           learning_rate=0.08, loss='deviance', max_depth=5,\n",
    "                           max_features=None, max_leaf_nodes=None,\n",
    "                           min_impurity_decrease=0.0, min_impurity_split=None,\n",
    "                           min_samples_leaf=30, min_samples_split=100,\n",
    "                           min_weight_fraction_leaf=0.0, n_estimators=100,\n",
    "                           n_iter_no_change=None, presort='deprecated',\n",
    "                           random_state=16, subsample=1.0, tol=0.0001,\n",
    "                           validation_fraction=0.1, verbose=0,\n",
    "                           warm_start=False)\n",
    "\n",
    "viz = FeatureImportances(gbm)\n",
    "viz.fit(x_SMOTE, y_SMOTE)\n",
    "viz.show();"
   ]
  },
  {
   "cell_type": "markdown",
   "metadata": {},
   "source": [
    "# Final Prediction"
   ]
  },
  {
   "cell_type": "markdown",
   "metadata": {},
   "source": [
    "After studying the Kaggle score of previous submissions and respective classification matrices, we found that the model with the best Kaggle score had the highest 'recall' and the Kaggle score for the previous submissions decreased with a decrease in recall. So, instead of directly predicting 'yes/no' predictions, we predicted the probabilities of the observation being 'yes/no'. After fiddling with the threshold that decides whether an observation is classified as 'yes/no' (default = 0.5) we arrived at the final threshold of 0.24 that gave the best Kaggle score."
   ]
  },
  {
   "cell_type": "code",
   "execution_count": null,
   "metadata": {},
   "outputs": [],
   "source": [
    "test_pred = gbm.predict_proba(tmp2)"
   ]
  },
  {
   "cell_type": "code",
   "execution_count": null,
   "metadata": {},
   "outputs": [],
   "source": [
    "pred_df = pd.DataFrame(data = test_pred,index = df['ID'])"
   ]
  },
  {
   "cell_type": "code",
   "execution_count": null,
   "metadata": {},
   "outputs": [],
   "source": [
    "pred_df['Y'] = np.where(pred_df[1] > 0.24,'yes','no')"
   ]
  },
  {
   "cell_type": "code",
   "execution_count": null,
   "metadata": {},
   "outputs": [],
   "source": [
    "pred_df.head()"
   ]
  }
 ],
 "metadata": {
  "kernelspec": {
   "display_name": "Python 3",
   "language": "python",
   "name": "python3"
  },
  "language_info": {
   "codemirror_mode": {
    "name": "ipython",
    "version": 3
   },
   "file_extension": ".py",
   "mimetype": "text/x-python",
   "name": "python",
   "nbconvert_exporter": "python",
   "pygments_lexer": "ipython3",
   "version": "3.7.6"
  }
 },
 "nbformat": 4,
 "nbformat_minor": 4
}
